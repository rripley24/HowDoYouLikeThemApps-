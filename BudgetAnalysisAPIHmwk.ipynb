{
 "cells": [
  {
   "cell_type": "markdown",
   "metadata": {},
   "source": [
    "# Budget Analysis\n",
    "\n",
    "---\n",
    "\n",
    "## Environment Setup"
   ]
  },
  {
   "cell_type": "code",
   "execution_count": 1,
   "metadata": {},
   "outputs": [],
   "source": [
    "# Initial Imports\n",
    "import os\n",
    "import plaid\n",
    "import requests\n",
    "import datetime\n",
    "import json\n",
    "import pandas as pd\n",
    "from dotenv import load_dotenv\n",
    "\n",
    "%matplotlib inline"
   ]
  },
  {
   "cell_type": "code",
   "execution_count": 2,
   "metadata": {},
   "outputs": [],
   "source": [
    "# Helper functions\n",
    "\n",
    "def pretty_print_response(response):\n",
    "    \"\"\"\n",
    "    This function formats a JSON file to pretty printing it in the screen.\n",
    "    \"\"\"\n",
    "    print(json.dumps(response, indent=4, sort_keys=True))"
   ]
  },
  {
   "cell_type": "code",
   "execution_count": 3,
   "metadata": {},
   "outputs": [
    {
     "data": {
      "text/plain": [
       "True"
      ]
     },
     "execution_count": 3,
     "metadata": {},
     "output_type": "execute_result"
    }
   ],
   "source": [
    "# Set environment variables from the .env file\n",
    "\n",
    "load_dotenv()"
   ]
  },
  {
   "cell_type": "code",
   "execution_count": 4,
   "metadata": {},
   "outputs": [],
   "source": [
    "# Extract API keys from environment variables\n",
    "\n",
    "PLAID_CLIENT_ID = os.getenv(\"PLAID_CLIENT_ID\")\n",
    "PLAID_SECRET = os.getenv(\"PLAID_SECRET\")\n",
    "PLAID_PUBLIC_KEY = os.getenv(\"PLAID_PUBLIC_KEY\")"
   ]
  },
  {
   "cell_type": "markdown",
   "metadata": {},
   "source": [
    "---\n",
    "\n",
    "## Plaid Access Token\n",
    "\n",
    "In this section, you will use the `plaid-python` API to generate the correct authentication tokens to access data in the free developer Sandbox. This mimics how you might connect to your own account or a customer account, but due to privacy issues, this homework will only require connecting to and analyzing the fake data from the developer sandbox that Plaid provides. \n",
    "\n",
    "Complete the following steps to generate an access token:\n",
    "\n",
    "1. Create a client to connect to plaid\n",
    "\n",
    "2. Use the client to generate a public token and request the following items: ['transactions', 'income', 'assets']\n",
    "\n",
    "3. Exchange the public token for an access token\n",
    "\n",
    "4. Test the access token by requesting and printing the available test accounts"
   ]
  },
  {
   "cell_type": "markdown",
   "metadata": {},
   "source": [
    "### 1. Create a client to connect to plaid"
   ]
  },
  {
   "cell_type": "code",
   "execution_count": 5,
   "metadata": {},
   "outputs": [],
   "source": [
    "# Create the client object\n",
    "\n",
    "client = plaid.Client(client_id=PLAID_CLIENT_ID, \n",
    "                      public_key=PLAID_PUBLIC_KEY, \n",
    "                      secret=PLAID_SECRET, \n",
    "                      environment = 'sandbox')"
   ]
  },
  {
   "cell_type": "code",
   "execution_count": 6,
   "metadata": {},
   "outputs": [],
   "source": [
    "# Set the institution id\n",
    "INSTITUTION_ID = \"ins_109508\""
   ]
  },
  {
   "cell_type": "markdown",
   "metadata": {},
   "source": [
    "### 2. Generate a public token"
   ]
  },
  {
   "cell_type": "code",
   "execution_count": 7,
   "metadata": {},
   "outputs": [
    {
     "data": {
      "text/plain": [
       "{'public_token': 'public-sandbox-e7f54cfd-a99b-4fcb-b320-a4fc26fbb8f7',\n",
       " 'request_id': 'EdwQ0yruXNYLIKJ'}"
      ]
     },
     "execution_count": 7,
     "metadata": {},
     "output_type": "execute_result"
    }
   ],
   "source": [
    "# Create the public token\n",
    "\n",
    "create_tkn_response = client.Sandbox.public_token.create(INSTITUTION_ID, ['transactions','income','assets'])\n",
    "\n",
    "# Print the public token\n",
    "\n",
    "create_tkn_response"
   ]
  },
  {
   "cell_type": "markdown",
   "metadata": {},
   "source": [
    "### 3. Exchange the public token for an access token"
   ]
  },
  {
   "cell_type": "code",
   "execution_count": 8,
   "metadata": {},
   "outputs": [
    {
     "name": "stdout",
     "output_type": "stream",
     "text": [
      "{'access_token': 'access-sandbox-a80a0d37-9257-4427-a0fa-0ded8138abf4', 'item_id': 'gqm9rbMnoZUra754e931FGMoNaL8pAcgqjmR4', 'request_id': 'i1VqgEE4j5q0YNr'}\n"
     ]
    }
   ],
   "source": [
    "# Retrieve the access token\n",
    "\n",
    "exchange_response = client.Item.public_token.exchange(create_tkn_response['public_token'])\n",
    "# access_token = exchange_response['access_token']\n",
    "\n",
    "# Print the access token\n",
    "print(exchange_response)"
   ]
  },
  {
   "cell_type": "code",
   "execution_count": 9,
   "metadata": {},
   "outputs": [],
   "source": [
    "# Store the access token in a Python variable\n",
    "\n",
    "access_token = exchange_response['access_token']"
   ]
  },
  {
   "cell_type": "markdown",
   "metadata": {},
   "source": [
    "### 4. Fetch Accounts"
   ]
  },
  {
   "cell_type": "code",
   "execution_count": 10,
   "metadata": {
    "scrolled": true
   },
   "outputs": [
    {
     "data": {
      "text/plain": [
       "{'accounts': [{'account_id': '7k9qJpRZo3FbZDk7Eq3Nsa4rnzprmBHgLoZQl',\n",
       "   'balances': {'available': 100,\n",
       "    'current': 110,\n",
       "    'iso_currency_code': 'USD',\n",
       "    'limit': None,\n",
       "    'unofficial_currency_code': None},\n",
       "   'mask': '0000',\n",
       "   'name': 'Plaid Checking',\n",
       "   'official_name': 'Plaid Gold Standard 0% Interest Checking',\n",
       "   'subtype': 'checking',\n",
       "   'type': 'depository'},\n",
       "  {'account_id': 'enmEqvMALQhQyZBdjWebFrk3pva375FL14gDD',\n",
       "   'balances': {'available': 200,\n",
       "    'current': 210,\n",
       "    'iso_currency_code': 'USD',\n",
       "    'limit': None,\n",
       "    'unofficial_currency_code': None},\n",
       "   'mask': '1111',\n",
       "   'name': 'Plaid Saving',\n",
       "   'official_name': 'Plaid Silver Standard 0.1% Interest Saving',\n",
       "   'subtype': 'savings',\n",
       "   'type': 'depository'},\n",
       "  {'account_id': 'Qy3BeJpxlgUZdRLA5WKGi3ro8BnovxspE51oX',\n",
       "   'balances': {'available': None,\n",
       "    'current': 1000,\n",
       "    'iso_currency_code': 'USD',\n",
       "    'limit': None,\n",
       "    'unofficial_currency_code': None},\n",
       "   'mask': '2222',\n",
       "   'name': 'Plaid CD',\n",
       "   'official_name': 'Plaid Bronze Standard 0.2% Interest CD',\n",
       "   'subtype': 'cd',\n",
       "   'type': 'depository'},\n",
       "  {'account_id': 'ZRm7xqEQaDHW16dAKb8JFdPLvVALrztgV63LB',\n",
       "   'balances': {'available': None,\n",
       "    'current': 410,\n",
       "    'iso_currency_code': 'USD',\n",
       "    'limit': 2000,\n",
       "    'unofficial_currency_code': None},\n",
       "   'mask': '3333',\n",
       "   'name': 'Plaid Credit Card',\n",
       "   'official_name': 'Plaid Diamond 12.5% APR Interest Credit Card',\n",
       "   'subtype': 'credit card',\n",
       "   'type': 'credit'},\n",
       "  {'account_id': 'MXKq17grJGIo6QAN5LEjiyVxd9RxKpT9VJKx5',\n",
       "   'balances': {'available': 43200,\n",
       "    'current': 43200,\n",
       "    'iso_currency_code': 'USD',\n",
       "    'limit': None,\n",
       "    'unofficial_currency_code': None},\n",
       "   'mask': '4444',\n",
       "   'name': 'Plaid Money Market',\n",
       "   'official_name': 'Plaid Platinum Standard 1.85% Interest Money Market',\n",
       "   'subtype': 'money market',\n",
       "   'type': 'depository'},\n",
       "  {'account_id': '189Zel6NQ3HmdERXqDGPFAvjk5GjdWu5l8z7y',\n",
       "   'balances': {'available': None,\n",
       "    'current': 320.76,\n",
       "    'iso_currency_code': 'USD',\n",
       "    'limit': None,\n",
       "    'unofficial_currency_code': None},\n",
       "   'mask': '5555',\n",
       "   'name': 'Plaid IRA',\n",
       "   'official_name': None,\n",
       "   'subtype': 'ira',\n",
       "   'type': 'investment'},\n",
       "  {'account_id': 'LXqlRVpKJyI4DzkM51JRIaZ8nbM8yKHPGX78g',\n",
       "   'balances': {'available': None,\n",
       "    'current': 23631.9805,\n",
       "    'iso_currency_code': 'USD',\n",
       "    'limit': None,\n",
       "    'unofficial_currency_code': None},\n",
       "   'mask': '6666',\n",
       "   'name': 'Plaid 401k',\n",
       "   'official_name': None,\n",
       "   'subtype': '401k',\n",
       "   'type': 'investment'},\n",
       "  {'account_id': 'p4WwJ5MKvph6eXK3zx79Fy8ZRbzZEVTL3ZwgD',\n",
       "   'balances': {'available': None,\n",
       "    'current': 65262,\n",
       "    'iso_currency_code': 'USD',\n",
       "    'limit': None,\n",
       "    'unofficial_currency_code': None},\n",
       "   'mask': '7777',\n",
       "   'name': 'Plaid Student Loan',\n",
       "   'official_name': None,\n",
       "   'subtype': 'student',\n",
       "   'type': 'loan'},\n",
       "  {'account_id': 'oawER51qvNCDogqBr3zJFjqdmLrdk6fR8dj9R',\n",
       "   'balances': {'available': None,\n",
       "    'current': 56302.06,\n",
       "    'iso_currency_code': 'USD',\n",
       "    'limit': None,\n",
       "    'unofficial_currency_code': None},\n",
       "   'mask': '8888',\n",
       "   'name': 'Plaid Mortgage',\n",
       "   'official_name': None,\n",
       "   'subtype': 'mortgage',\n",
       "   'type': 'loan'}],\n",
       " 'item': {'available_products': ['auth',\n",
       "   'balance',\n",
       "   'credit_details',\n",
       "   'identity',\n",
       "   'investments',\n",
       "   'liabilities'],\n",
       "  'billed_products': ['assets', 'income', 'transactions'],\n",
       "  'consent_expiration_time': None,\n",
       "  'error': None,\n",
       "  'institution_id': 'ins_109508',\n",
       "  'item_id': 'gqm9rbMnoZUra754e931FGMoNaL8pAcgqjmR4',\n",
       "  'webhook': ''},\n",
       " 'request_id': 'RT7gwTFUyMvD1pl'}"
      ]
     },
     "execution_count": 10,
     "metadata": {},
     "output_type": "execute_result"
    }
   ],
   "source": [
    "# Retrieve accounts\n",
    "\n",
    "accounts =client.Accounts.get(access_token)\n",
    "\n",
    "# Print accounts\n",
    "\n",
    "accounts"
   ]
  },
  {
   "cell_type": "markdown",
   "metadata": {},
   "source": [
    "---\n",
    "\n",
    "# Account Transactions with Plaid\n",
    "\n",
    "In this section, you will use the Plaid Python SDK to connect to the Developer Sandbox account and grab a list of transactions. You will need to complete the following steps:\n",
    "\n",
    "\n",
    "1. Use the access token to fetch the transactions for the last 90 days\n",
    "\n",
    "2. Print the categories for each transaction type\n",
    "\n",
    "3. Create a new DataFrame using the following fields from the JSON transaction data: `date, name, amount, category`. (For categories with more than one label, just use the first category label in the list)\n",
    "\n",
    "4. Convert the data types to the appropriate types (i.e. datetimeindex for the date and float for the amount)"
   ]
  },
  {
   "cell_type": "markdown",
   "metadata": {},
   "source": [
    "### 1. Fetch the Transactions for the last 90 days"
   ]
  },
  {
   "cell_type": "code",
   "execution_count": 11,
   "metadata": {},
   "outputs": [
    {
     "data": {
      "text/plain": [
       "[{'account_id': 'ZRm7xqEQaDHW16dAKb8JFdPLvVALrztgV63LB',\n",
       "  'account_owner': None,\n",
       "  'amount': 500,\n",
       "  'authorized_date': None,\n",
       "  'category': ['Travel', 'Airlines and Aviation Services'],\n",
       "  'category_id': '22001000',\n",
       "  'date': '2020-07-29',\n",
       "  'iso_currency_code': 'USD',\n",
       "  'location': {'address': None,\n",
       "   'city': None,\n",
       "   'country': None,\n",
       "   'lat': None,\n",
       "   'lon': None,\n",
       "   'postal_code': None,\n",
       "   'region': None,\n",
       "   'store_number': None},\n",
       "  'merchant_name': 'United Airlines',\n",
       "  'name': 'United Airlines',\n",
       "  'payment_channel': 'in store',\n",
       "  'payment_meta': {'by_order_of': None,\n",
       "   'payee': None,\n",
       "   'payer': None,\n",
       "   'payment_method': None,\n",
       "   'payment_processor': None,\n",
       "   'ppd_id': None,\n",
       "   'reason': None,\n",
       "   'reference_number': None},\n",
       "  'pending': False,\n",
       "  'pending_transaction_id': None,\n",
       "  'transaction_code': None,\n",
       "  'transaction_id': '8X9KxpJMgVIoR1KGdXpQibgJ9QMoAXfwjbn66',\n",
       "  'transaction_type': 'special',\n",
       "  'unofficial_currency_code': None}]"
      ]
     },
     "execution_count": 11,
     "metadata": {},
     "output_type": "execute_result"
    }
   ],
   "source": [
    "# Set the start and end date 90 days from today\n",
    "\n",
    "start_date = '{:%Y-%m-%d}'.format(datetime.datetime.now() + datetime.timedelta(-90))\n",
    "end_date = '{:%Y-%m-%d}'.format(datetime.datetime.now()) \n",
    "\n",
    "# Retrieve the transactions for the last 90 days\n",
    "\n",
    "transactions_response = client.Transactions.get(access_token, start_date, end_date)\n",
    "\n",
    "# Print the transactions\n",
    "\n",
    "transactions_response['transactions'][:1]"
   ]
  },
  {
   "cell_type": "markdown",
   "metadata": {},
   "source": [
    "### 2. Print the categories for each transaction"
   ]
  },
  {
   "cell_type": "code",
   "execution_count": 12,
   "metadata": {},
   "outputs": [
    {
     "name": "stdout",
     "output_type": "stream",
     "text": [
      "[\"Travel\", \"Airlines and Aviation Services\"]\n",
      "[\"Travel\", \"Taxi\"]\n",
      "[\"Food and Drink\", \"Restaurants\"]\n",
      "[\"Payment\"]\n",
      "[\"Food and Drink\", \"Restaurants\", \"Fast Food\"]\n",
      "[\"Shops\", \"Sporting Goods\"]\n",
      "[\"Payment\", \"Credit Card\"]\n",
      "[\"Travel\", \"Taxi\"]\n",
      "[\"Transfer\", \"Debit\"]\n",
      "[\"Transfer\", \"Deposit\"]\n",
      "[\"Recreation\", \"Gyms and Fitness Centers\"]\n",
      "[\"Travel\", \"Airlines and Aviation Services\"]\n",
      "[\"Food and Drink\", \"Restaurants\", \"Fast Food\"]\n",
      "[\"Food and Drink\", \"Restaurants\", \"Coffee Shop\"]\n",
      "[\"Food and Drink\", \"Restaurants\"]\n",
      "[\"Transfer\", \"Credit\"]\n",
      "[\"Travel\", \"Airlines and Aviation Services\"]\n",
      "[\"Travel\", \"Taxi\"]\n",
      "[\"Food and Drink\", \"Restaurants\"]\n",
      "[\"Payment\"]\n",
      "[\"Food and Drink\", \"Restaurants\", \"Fast Food\"]\n",
      "[\"Shops\", \"Sporting Goods\"]\n",
      "[\"Payment\", \"Credit Card\"]\n",
      "[\"Travel\", \"Taxi\"]\n",
      "[\"Transfer\", \"Debit\"]\n",
      "[\"Transfer\", \"Deposit\"]\n",
      "[\"Recreation\", \"Gyms and Fitness Centers\"]\n",
      "[\"Travel\", \"Airlines and Aviation Services\"]\n",
      "[\"Food and Drink\", \"Restaurants\", \"Fast Food\"]\n",
      "[\"Food and Drink\", \"Restaurants\", \"Coffee Shop\"]\n",
      "[\"Food and Drink\", \"Restaurants\"]\n",
      "[\"Transfer\", \"Credit\"]\n",
      "[\"Travel\", \"Airlines and Aviation Services\"]\n",
      "[\"Travel\", \"Taxi\"]\n",
      "[\"Food and Drink\", \"Restaurants\"]\n",
      "[\"Payment\"]\n",
      "[\"Food and Drink\", \"Restaurants\", \"Fast Food\"]\n",
      "[\"Shops\", \"Sporting Goods\"]\n",
      "[\"Payment\", \"Credit Card\"]\n",
      "[\"Travel\", \"Taxi\"]\n",
      "[\"Transfer\", \"Debit\"]\n",
      "[\"Transfer\", \"Deposit\"]\n",
      "[\"Recreation\", \"Gyms and Fitness Centers\"]\n",
      "[\"Travel\", \"Airlines and Aviation Services\"]\n",
      "[\"Food and Drink\", \"Restaurants\", \"Fast Food\"]\n",
      "[\"Food and Drink\", \"Restaurants\", \"Coffee Shop\"]\n",
      "[\"Food and Drink\", \"Restaurants\"]\n",
      "[\"Transfer\", \"Credit\"]\n",
      "[\"Travel\", \"Airlines and Aviation Services\"]\n"
     ]
    }
   ],
   "source": [
    "# Create a for-loop to print the categories for each transaction\n",
    "\n",
    "for transactions in transactions_response['transactions']:\n",
    "     print(json.dumps(transactions['category']))"
   ]
  },
  {
   "cell_type": "markdown",
   "metadata": {},
   "source": [
    "### 3. Create a new DataFrame using the following fields from the JSON transaction data: `date`, `name`, `amount`, `category`. \n",
    "\n",
    "(For categories with more than one label, just use the first category label in the list)"
   ]
  },
  {
   "cell_type": "code",
   "execution_count": 13,
   "metadata": {},
   "outputs": [
    {
     "data": {
      "text/html": [
       "<div>\n",
       "<style scoped>\n",
       "    .dataframe tbody tr th:only-of-type {\n",
       "        vertical-align: middle;\n",
       "    }\n",
       "\n",
       "    .dataframe tbody tr th {\n",
       "        vertical-align: top;\n",
       "    }\n",
       "\n",
       "    .dataframe thead th {\n",
       "        text-align: right;\n",
       "    }\n",
       "</style>\n",
       "<table border=\"1\" class=\"dataframe\">\n",
       "  <thead>\n",
       "    <tr style=\"text-align: right;\">\n",
       "      <th></th>\n",
       "      <th>date</th>\n",
       "      <th>name</th>\n",
       "      <th>amount</th>\n",
       "      <th>category</th>\n",
       "    </tr>\n",
       "  </thead>\n",
       "  <tbody>\n",
       "    <tr>\n",
       "      <th>0</th>\n",
       "      <td>2020-07-29</td>\n",
       "      <td>United Airlines</td>\n",
       "      <td>500</td>\n",
       "      <td>Travel</td>\n",
       "    </tr>\n",
       "    <tr>\n",
       "      <th>1</th>\n",
       "      <td>2020-07-27</td>\n",
       "      <td>Uber 072515 SF**POOL**</td>\n",
       "      <td>6.33</td>\n",
       "      <td>Travel</td>\n",
       "    </tr>\n",
       "    <tr>\n",
       "      <th>2</th>\n",
       "      <td>2020-07-24</td>\n",
       "      <td>Tectra Inc</td>\n",
       "      <td>500</td>\n",
       "      <td>Food and Drink</td>\n",
       "    </tr>\n",
       "    <tr>\n",
       "      <th>3</th>\n",
       "      <td>2020-07-23</td>\n",
       "      <td>AUTOMATIC PAYMENT - THANK</td>\n",
       "      <td>2078.5</td>\n",
       "      <td>Payment</td>\n",
       "    </tr>\n",
       "    <tr>\n",
       "      <th>4</th>\n",
       "      <td>2020-07-23</td>\n",
       "      <td>KFC</td>\n",
       "      <td>500</td>\n",
       "      <td>Food and Drink</td>\n",
       "    </tr>\n",
       "  </tbody>\n",
       "</table>\n",
       "</div>"
      ],
      "text/plain": [
       "         date                       name  amount        category\n",
       "0  2020-07-29            United Airlines     500          Travel\n",
       "1  2020-07-27     Uber 072515 SF**POOL**    6.33          Travel\n",
       "2  2020-07-24                 Tectra Inc     500  Food and Drink\n",
       "3  2020-07-23  AUTOMATIC PAYMENT - THANK  2078.5         Payment\n",
       "4  2020-07-23                        KFC     500  Food and Drink"
      ]
     },
     "execution_count": 13,
     "metadata": {},
     "output_type": "execute_result"
    }
   ],
   "source": [
    "# Define an empty DataFrame and set the columns as date, name, amount, and category\n",
    "\n",
    "transaction_df = pd.DataFrame(columns=[\"date\", \"name\", \"amount\", \"category\"])\n",
    "\n",
    "# Retrieve all the transactions\n",
    "\n",
    "transactions = transactions_response[\"transactions\"]\n",
    "\n",
    "# Populate the transactions DataFrame with the transactions data\n",
    "\n",
    "for index, transaction in enumerate(transactions):\n",
    "    transaction_df.loc[index]=[transaction[\"date\"],transaction[\"name\"], transaction[\"amount\"], transaction[\"category\"][0]]\n",
    "    \n",
    "# Display sample data from the DataFrame    \n",
    "\n",
    "transaction_df.head()"
   ]
  },
  {
   "cell_type": "code",
   "execution_count": 16,
   "metadata": {},
   "outputs": [
    {
     "data": {
      "text/plain": [
       "date         object\n",
       "name         object\n",
       "amount      float64\n",
       "category     object\n",
       "dtype: object"
      ]
     },
     "execution_count": 16,
     "metadata": {},
     "output_type": "execute_result"
    }
   ],
   "source": [
    "### 4. Convert the data types to the appropriate types \n",
    "\n",
    "### (i.e. datetimeindex for the date and float for the amount)\n",
    "\n",
    "transaction_df['amount'] = transaction_df['amount'].astype(float)\n",
    "\n",
    "#### datetime index set above\n",
    "\n",
    "# Display data types\n",
    "\n",
    "transaction_df.dtypes"
   ]
  },
  {
   "cell_type": "code",
   "execution_count": 17,
   "metadata": {},
   "outputs": [
    {
     "data": {
      "text/html": [
       "<div>\n",
       "<style scoped>\n",
       "    .dataframe tbody tr th:only-of-type {\n",
       "        vertical-align: middle;\n",
       "    }\n",
       "\n",
       "    .dataframe tbody tr th {\n",
       "        vertical-align: top;\n",
       "    }\n",
       "\n",
       "    .dataframe thead th {\n",
       "        text-align: right;\n",
       "    }\n",
       "</style>\n",
       "<table border=\"1\" class=\"dataframe\">\n",
       "  <thead>\n",
       "    <tr style=\"text-align: right;\">\n",
       "      <th></th>\n",
       "      <th>name</th>\n",
       "      <th>amount</th>\n",
       "      <th>category</th>\n",
       "    </tr>\n",
       "    <tr>\n",
       "      <th>date</th>\n",
       "      <th></th>\n",
       "      <th></th>\n",
       "      <th></th>\n",
       "    </tr>\n",
       "  </thead>\n",
       "  <tbody>\n",
       "    <tr>\n",
       "      <th>2020-07-29</th>\n",
       "      <td>United Airlines</td>\n",
       "      <td>500.00</td>\n",
       "      <td>Travel</td>\n",
       "    </tr>\n",
       "    <tr>\n",
       "      <th>2020-07-27</th>\n",
       "      <td>Uber 072515 SF**POOL**</td>\n",
       "      <td>6.33</td>\n",
       "      <td>Travel</td>\n",
       "    </tr>\n",
       "    <tr>\n",
       "      <th>2020-07-24</th>\n",
       "      <td>Tectra Inc</td>\n",
       "      <td>500.00</td>\n",
       "      <td>Food and Drink</td>\n",
       "    </tr>\n",
       "    <tr>\n",
       "      <th>2020-07-23</th>\n",
       "      <td>AUTOMATIC PAYMENT - THANK</td>\n",
       "      <td>2078.50</td>\n",
       "      <td>Payment</td>\n",
       "    </tr>\n",
       "    <tr>\n",
       "      <th>2020-07-23</th>\n",
       "      <td>KFC</td>\n",
       "      <td>500.00</td>\n",
       "      <td>Food and Drink</td>\n",
       "    </tr>\n",
       "  </tbody>\n",
       "</table>\n",
       "</div>"
      ],
      "text/plain": [
       "                                 name   amount        category\n",
       "date                                                          \n",
       "2020-07-29            United Airlines   500.00          Travel\n",
       "2020-07-27     Uber 072515 SF**POOL**     6.33          Travel\n",
       "2020-07-24                 Tectra Inc   500.00  Food and Drink\n",
       "2020-07-23  AUTOMATIC PAYMENT - THANK  2078.50         Payment\n",
       "2020-07-23                        KFC   500.00  Food and Drink"
      ]
     },
     "execution_count": 17,
     "metadata": {},
     "output_type": "execute_result"
    }
   ],
   "source": [
    "# Set the date column as index\n",
    "\n",
    "# Display sample data\n",
    "\n",
    "transaction_df = transaction_df.set_index(\"date\")\n",
    "transaction_df.head()"
   ]
  },
  {
   "cell_type": "markdown",
   "metadata": {},
   "source": [
    "# Income Analysis with Plaid\n",
    "\n",
    "In this section, you will use the Plaid Sandbox to complete the following:\n",
    "\n",
    "1. Determine the previous year's gross income and print the results\n",
    "\n",
    "2. Determine the current monthly income and print the results\n",
    "\n",
    "3. Determine the projected yearly income and print the results"
   ]
  },
  {
   "cell_type": "code",
   "execution_count": 18,
   "metadata": {},
   "outputs": [
    {
     "data": {
      "text/plain": [
       "{'income': {'income_streams': [{'confidence': 0.99,\n",
       "    'days': 690,\n",
       "    'monthly_income': 500,\n",
       "    'name': 'UNITED AIRLINES'}],\n",
       "  'last_year_income': 6000,\n",
       "  'last_year_income_before_tax': 7285,\n",
       "  'max_number_of_overlapping_income_streams': 1,\n",
       "  'number_of_income_streams': 1,\n",
       "  'projected_yearly_income': 6085,\n",
       "  'projected_yearly_income_before_tax': 7389},\n",
       " 'request_id': 'y6jdFTrxOe5L7HM'}"
      ]
     },
     "execution_count": 18,
     "metadata": {},
     "output_type": "execute_result"
    }
   ],
   "source": [
    "# Fetch the income data\n",
    "\n",
    "income = client.Income.get(access_token)\n",
    "\n",
    "# Print the income data\n",
    "\n",
    "income"
   ]
  },
  {
   "cell_type": "code",
   "execution_count": 19,
   "metadata": {},
   "outputs": [
    {
     "data": {
      "text/plain": [
       "7285"
      ]
     },
     "execution_count": 19,
     "metadata": {},
     "output_type": "execute_result"
    }
   ],
   "source": [
    "# Determine the previous year's gross income and print the results\n",
    "\n",
    "income['income']['last_year_income_before_tax']"
   ]
  },
  {
   "cell_type": "code",
   "execution_count": 20,
   "metadata": {},
   "outputs": [
    {
     "data": {
      "text/plain": [
       "500"
      ]
     },
     "execution_count": 20,
     "metadata": {},
     "output_type": "execute_result"
    }
   ],
   "source": [
    "# Determine the current monthly income and print the results\n",
    "\n",
    "income['income']['income_streams'][0]['monthly_income']"
   ]
  },
  {
   "cell_type": "code",
   "execution_count": 21,
   "metadata": {},
   "outputs": [
    {
     "data": {
      "text/plain": [
       "6085"
      ]
     },
     "execution_count": 21,
     "metadata": {},
     "output_type": "execute_result"
    }
   ],
   "source": [
    "# Determine the projected yearly income and print the results\n",
    "\n",
    "income['income']['projected_yearly_income']"
   ]
  },
  {
   "cell_type": "markdown",
   "metadata": {},
   "source": [
    "# Budget Analysis\n",
    "In this section, you will use the transactions DataFrame to analyze the customer's budget\n",
    "\n",
    "1. Calculate the total spending per category and print the results (Hint: groupby or count transactions per category)\n",
    "\n",
    "2. Generate a bar chart with the number of transactions for each category\n",
    "\n",
    "3. Calulate the expenses per month\n",
    "\n",
    "4. Plot the total expenses per month"
   ]
  },
  {
   "cell_type": "markdown",
   "metadata": {},
   "source": [
    "### Calculate the expenses per category"
   ]
  },
  {
   "cell_type": "code",
   "execution_count": 22,
   "metadata": {},
   "outputs": [
    {
     "data": {
      "text/html": [
       "<div>\n",
       "<style scoped>\n",
       "    .dataframe tbody tr th:only-of-type {\n",
       "        vertical-align: middle;\n",
       "    }\n",
       "\n",
       "    .dataframe tbody tr th {\n",
       "        vertical-align: top;\n",
       "    }\n",
       "\n",
       "    .dataframe thead th {\n",
       "        text-align: right;\n",
       "    }\n",
       "</style>\n",
       "<table border=\"1\" class=\"dataframe\">\n",
       "  <thead>\n",
       "    <tr style=\"text-align: right;\">\n",
       "      <th></th>\n",
       "      <th>amount</th>\n",
       "    </tr>\n",
       "    <tr>\n",
       "      <th>category</th>\n",
       "      <th></th>\n",
       "    </tr>\n",
       "  </thead>\n",
       "  <tbody>\n",
       "    <tr>\n",
       "      <th>Food and Drink</th>\n",
       "      <td>3317.19</td>\n",
       "    </tr>\n",
       "    <tr>\n",
       "      <th>Payment</th>\n",
       "      <td>6310.50</td>\n",
       "    </tr>\n",
       "    <tr>\n",
       "      <th>Recreation</th>\n",
       "      <td>235.50</td>\n",
       "    </tr>\n",
       "    <tr>\n",
       "      <th>Shops</th>\n",
       "      <td>1500.00</td>\n",
       "    </tr>\n",
       "    <tr>\n",
       "      <th>Transfer</th>\n",
       "      <td>20537.34</td>\n",
       "    </tr>\n",
       "    <tr>\n",
       "      <th>Travel</th>\n",
       "      <td>535.19</td>\n",
       "    </tr>\n",
       "  </tbody>\n",
       "</table>\n",
       "</div>"
      ],
      "text/plain": [
       "                  amount\n",
       "category                \n",
       "Food and Drink   3317.19\n",
       "Payment          6310.50\n",
       "Recreation        235.50\n",
       "Shops            1500.00\n",
       "Transfer        20537.34\n",
       "Travel            535.19"
      ]
     },
     "execution_count": 22,
     "metadata": {},
     "output_type": "execute_result"
    }
   ],
   "source": [
    "# Compute the total expenses per category\n",
    "\n",
    "expenses = transaction_df.groupby('category').sum()\n",
    "\n",
    "# Display the expenses per category\n",
    "\n",
    "expenses"
   ]
  },
  {
   "cell_type": "code",
   "execution_count": 23,
   "metadata": {},
   "outputs": [
    {
     "data": {
      "text/plain": [
       "array([<matplotlib.axes._subplots.AxesSubplot object at 0x7f83f2fb8650>],\n",
       "      dtype=object)"
      ]
     },
     "execution_count": 23,
     "metadata": {},
     "output_type": "execute_result"
    },
    {
     "data": {
      "image/png": "[encoded data removed]",
      "text/plain": [
       "<Figure size 1152x576 with 1 Axes>"
      ]
     },
     "metadata": {},
     "output_type": "display_data"
    }
   ],
   "source": [
    "# Create a spending categories pie chart.\n",
    "\n",
    "expenses.plot.pie(subplots = True, figsize = (16,8), legend = True)"
   ]
  },
  {
   "cell_type": "markdown",
   "metadata": {},
   "source": [
    "### Calculate the expenses per month"
   ]
  },
  {
   "cell_type": "code",
   "execution_count": 24,
   "metadata": {},
   "outputs": [
    {
     "data": {
      "text/html": [
       "<div>\n",
       "<style scoped>\n",
       "    .dataframe tbody tr th:only-of-type {\n",
       "        vertical-align: middle;\n",
       "    }\n",
       "\n",
       "    .dataframe tbody tr th {\n",
       "        vertical-align: top;\n",
       "    }\n",
       "\n",
       "    .dataframe thead th {\n",
       "        text-align: right;\n",
       "    }\n",
       "</style>\n",
       "<table border=\"1\" class=\"dataframe\">\n",
       "  <thead>\n",
       "    <tr style=\"text-align: right;\">\n",
       "      <th></th>\n",
       "      <th>name</th>\n",
       "      <th>amount</th>\n",
       "      <th>category</th>\n",
       "      <th>month</th>\n",
       "    </tr>\n",
       "    <tr>\n",
       "      <th>date</th>\n",
       "      <th></th>\n",
       "      <th></th>\n",
       "      <th></th>\n",
       "      <th></th>\n",
       "    </tr>\n",
       "  </thead>\n",
       "  <tbody>\n",
       "    <tr>\n",
       "      <th>2020-07-29</th>\n",
       "      <td>United Airlines</td>\n",
       "      <td>500.00</td>\n",
       "      <td>Travel</td>\n",
       "      <td>7</td>\n",
       "    </tr>\n",
       "    <tr>\n",
       "      <th>2020-07-27</th>\n",
       "      <td>Uber 072515 SF**POOL**</td>\n",
       "      <td>6.33</td>\n",
       "      <td>Travel</td>\n",
       "      <td>7</td>\n",
       "    </tr>\n",
       "    <tr>\n",
       "      <th>2020-07-24</th>\n",
       "      <td>Tectra Inc</td>\n",
       "      <td>500.00</td>\n",
       "      <td>Food and Drink</td>\n",
       "      <td>7</td>\n",
       "    </tr>\n",
       "    <tr>\n",
       "      <th>2020-07-23</th>\n",
       "      <td>AUTOMATIC PAYMENT - THANK</td>\n",
       "      <td>2078.50</td>\n",
       "      <td>Payment</td>\n",
       "      <td>7</td>\n",
       "    </tr>\n",
       "    <tr>\n",
       "      <th>2020-07-23</th>\n",
       "      <td>KFC</td>\n",
       "      <td>500.00</td>\n",
       "      <td>Food and Drink</td>\n",
       "      <td>7</td>\n",
       "    </tr>\n",
       "  </tbody>\n",
       "</table>\n",
       "</div>"
      ],
      "text/plain": [
       "                                 name   amount        category  month\n",
       "date                                                                 \n",
       "2020-07-29            United Airlines   500.00          Travel      7\n",
       "2020-07-27     Uber 072515 SF**POOL**     6.33          Travel      7\n",
       "2020-07-24                 Tectra Inc   500.00  Food and Drink      7\n",
       "2020-07-23  AUTOMATIC PAYMENT - THANK  2078.50         Payment      7\n",
       "2020-07-23                        KFC   500.00  Food and Drink      7"
      ]
     },
     "execution_count": 24,
     "metadata": {},
     "output_type": "execute_result"
    }
   ],
   "source": [
    "# Create a DataFrame with the total expenses\n",
    "\n",
    "transaction_df['month'] = pd.to_datetime(transaction_df.index).month\n",
    "\n",
    "# Display sample data\n",
    "\n",
    "transaction_df.head()"
   ]
  },
  {
   "cell_type": "code",
   "execution_count": 25,
   "metadata": {},
   "outputs": [
    {
     "data": {
      "text/plain": [
       "<matplotlib.axes._subplots.AxesSubplot at 0x7fd79a83e090>"
      ]
     },
     "execution_count": 25,
     "metadata": {},
     "output_type": "execute_result"
    },
    {
     "data": {
      "image/png": "[encoded data removed]",
      "text/plain": [
       "<Figure size 432x288 with 1 Axes>"
      ]
     },
     "metadata": {
      "needs_background": "light"
     },
     "output_type": "display_data"
    }
   ],
   "source": [
    "# Create a spending per month bar chart\n",
    "\n",
    "expenses_bar = transaction_df.reset_index().groupby('month').sum()\n",
    "expenses_bar.plot.bar()"
   ]
  }
 ],
 "metadata": {
  "kernelspec": {
   "display_name": "Python 3",
   "language": "python",
   "name": "python3"
  },
  "language_info": {
   "codemirror_mode": {
    "name": "ipython",
    "version": 3
   },
   "file_extension": ".py",
   "mimetype": "text/x-python",
   "name": "python",
   "nbconvert_exporter": "python",
   "pygments_lexer": "ipython3",
   "version": "3.7.6"
  }
 },
 "nbformat": 4,
 "nbformat_minor": 4
}
